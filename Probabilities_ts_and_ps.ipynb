{
 "cells": [
  {
   "cell_type": "code",
   "execution_count": 34,
   "metadata": {},
   "outputs": [],
   "source": [
    "%matplotlib inline\n",
    "import numpy as np\n",
    "import viz\n",
    "import matplotlib.pyplot as plt\n",
    "import pandas as pd\n",
    "import seaborn as sns\n",
    "import datetime as dt\n",
    "from scipy import stats\n",
    "import math"
   ]
  },
  {
   "cell_type": "code",
   "execution_count": 252,
   "metadata": {},
   "outputs": [
    {
     "name": "stdout",
     "output_type": "stream",
     "text": [
      "mu: 3.4828\n",
      "sigma: 1.6953772913425496\n",
      "n: 10000\n",
      "Standard Error: 0.016953772913425494\n",
      "t: 1.01452343899094, p_val: 0.3103575986474293\n"
     ]
    }
   ],
   "source": [
    "mu_pop = 3.5\n",
    "\n",
    "n = 10000\n",
    "results = get_sample(n)\n",
    "\n",
    "mu = results.mean()\n",
    "sigma = results.std()\n",
    "\n",
    "print(f'mu: {mu}\\nsigma: {sigma}\\nn: {n}')\n",
    "\n",
    "err = get_std_err(sigma, n)\n",
    "print(f'Standard Error: {err}')\n",
    "\n",
    "t = get_t(mu_pop, mu, err)\n",
    "\n",
    "p_val = get_p(t, n)\n",
    "\n",
    "print(f't: {t}, p_val: {p_val}')"
   ]
  },
  {
   "cell_type": "markdown",
   "metadata": {},
   "source": [
    "$t = (sample.mean() - population.mean()) / (sample.stddev() / math.sqrt(n))$"
   ]
  },
  {
   "cell_type": "code",
   "execution_count": 188,
   "metadata": {},
   "outputs": [],
   "source": [
    "def get_t(mu_population, mu_sample, std_err):\n",
    "    return abs((mu_sample - mu_population) / (std_err))"
   ]
  },
  {
   "cell_type": "markdown",
   "metadata": {},
   "source": [
    "$stats.t(n-1).cdf(t) * 2$"
   ]
  },
  {
   "cell_type": "code",
   "execution_count": 194,
   "metadata": {},
   "outputs": [],
   "source": [
    "def get_p(t, n):\n",
    "    p_val = stats.t(n - 1).sf(t) * 2\n",
    "    # print(f'p_val = {p_val}')\n",
    "    return p_val"
   ]
  },
  {
   "cell_type": "code",
   "execution_count": 185,
   "metadata": {},
   "outputs": [],
   "source": [
    "def get_sample(n, n_sides=6, base=1):\n",
    "    sample = np.random.choice(np.arange(base, n_sides + base), n)\n",
    "    return sample"
   ]
  },
  {
   "cell_type": "code",
   "execution_count": 186,
   "metadata": {},
   "outputs": [],
   "source": [
    "def get_std_err(std_sample, n):\n",
    "    return std_sample / math.sqrt(n)"
   ]
  },
  {
   "cell_type": "code",
   "execution_count": null,
   "metadata": {},
   "outputs": [],
   "source": []
  }
 ],
 "metadata": {
  "kernelspec": {
   "display_name": "Python 3",
   "language": "python",
   "name": "python3"
  },
  "language_info": {
   "codemirror_mode": {
    "name": "ipython",
    "version": 3
   },
   "file_extension": ".py",
   "mimetype": "text/x-python",
   "name": "python",
   "nbconvert_exporter": "python",
   "pygments_lexer": "ipython3",
   "version": "3.7.3"
  }
 },
 "nbformat": 4,
 "nbformat_minor": 2
}
