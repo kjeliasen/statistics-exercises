{
 "cells": [
  {
   "cell_type": "markdown",
   "metadata": {},
   "source": [
    "# Hypothesis Testing"
   ]
  },
  {
   "cell_type": "markdown",
   "metadata": {},
   "source": [
    "## Overview Exercises"
   ]
  },
  {
   "cell_type": "markdown",
   "metadata": {},
   "source": [
    "Do your work for this exercise in a jupyter notebook named `hypothesis_testing.ipynb`.\n",
    "\n",
    "For each of the following questions, formulate a null and alternative hypothesis (be as specific as you can be), then give an example of what a true positive, true negative, type I and type II errors would look like."
   ]
  },
  {
   "cell_type": "markdown",
   "metadata": {},
   "source": [
    "### Is the website redesign any good?"
   ]
  },
  {
   "cell_type": "markdown",
   "metadata": {},
   "source": [
    "**Null hypothesis:** \n",
    "User satisfaction scores will not imporove following webside redesign\n",
    "\n",
    "**Alternate hypothesis:** \n",
    "User satisfaction scores will improve following website redesign"
   ]
  },
  {
   "cell_type": "markdown",
   "metadata": {},
   "source": [
    "| | **H0 is true** | **H0 is false** |\n",
    "| :--- | :--- | :--- |\n",
    "| **Accept H0** | *D'oh!* | Company moves forward with sucky website |\n",
    "| **Reject H0** | Company moves forward with newer sucky website | *Wheee!* |"
   ]
  },
  {
   "cell_type": "markdown",
   "metadata": {},
   "source": [
    "### Is our television ad driving more sales?"
   ]
  },
  {
   "cell_type": "markdown",
   "metadata": {},
   "source": [
    "**Null hypothesis:** \n",
    "Sales will not imporove following television ad airing\n",
    "\n",
    "**Alternate hypothesis:** \n",
    "Sales will improve following our television ad airing"
   ]
  },
  {
   "cell_type": "markdown",
   "metadata": {},
   "source": [
    "| | H0 is true | H0 is false |\n",
    "| :--- | :--- | :--- |\n",
    "| **Accept H0** | *D'oh!* | Opportunity for gains lost | \n",
    "| **Reject H0** | Somebody paid a lot of money for nothing | *Wheee!*|"
   ]
  },
  {
   "cell_type": "markdown",
   "metadata": {},
   "source": [
    "### Has the network latency gone up since we switched internet service providers?"
   ]
  },
  {
   "cell_type": "markdown",
   "metadata": {},
   "source": [
    "**Null hypothesis:** \n",
    "Network latency metrics will not imporove following switch\n",
    "\n",
    "**Alternate hypothesis:** \n",
    "Network latency metrics will improve following switch"
   ]
  },
  {
   "cell_type": "markdown",
   "metadata": {},
   "source": [
    "| | H0 is true | H0 is false |\n",
    "| :--- | :--- | :--- |\n",
    "| **Accept H0** | *D'oh!* | Things stay crappy and people continue to complain |\n",
    "| **Reject H0** | Another somebody paid a lot of money for another nothing | *Wheee!*|"
   ]
  }
 ],
 "metadata": {
  "kernelspec": {
   "display_name": "Python 3",
   "language": "python",
   "name": "python3"
  },
  "language_info": {
   "codemirror_mode": {
    "name": "ipython",
    "version": 3
   },
   "file_extension": ".py",
   "mimetype": "text/x-python",
   "name": "python",
   "nbconvert_exporter": "python",
   "pygments_lexer": "ipython3",
   "version": "3.7.3"
  }
 },
 "nbformat": 4,
 "nbformat_minor": 2
}
