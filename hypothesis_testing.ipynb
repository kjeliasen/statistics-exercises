{
 "cells": [
  {
   "cell_type": "markdown",
   "metadata": {},
   "source": [
    "# Hypothesis Testing"
   ]
  },
  {
   "cell_type": "markdown",
   "metadata": {},
   "source": [
    "## Overview Exercises"
   ]
  },
  {
   "cell_type": "markdown",
   "metadata": {},
   "source": [
    "Do your work for this exercise in a jupyter notebook named `hypothesis_testing.ipynb`.\n",
    "\n",
    "For each of the following questions, formulate a null and alternative hypothesis (be as specific as you can be), then give an example of what a true positive, true negative, type I and type II errors would look like."
   ]
  },
  {
   "cell_type": "markdown",
   "metadata": {},
   "source": [
    "### Is the website redesign any good?"
   ]
  },
  {
   "cell_type": "markdown",
   "metadata": {},
   "source": [
    "**Null hypothesis:** \n",
    "User satisfaction scores will not imporove following webside redesign\n",
    "\n",
    "**Alternate hypothesis:** \n",
    "User satisfaction scores will improve following website redesign"
   ]
  },
  {
   "cell_type": "markdown",
   "metadata": {},
   "source": [
    "| | **H0 is true** | **H0 is false** |\n",
    "| :--- | :--- | :--- |\n",
    "| **Accept H0** | *D'oh!* | Company moves forward with sucky website |\n",
    "| **Reject H0** | Company moves forward with newer sucky website | *Wheee!* |"
   ]
  },
  {
   "cell_type": "markdown",
   "metadata": {},
   "source": [
    "### Is our television ad driving more sales?"
   ]
  },
  {
   "cell_type": "markdown",
   "metadata": {},
   "source": [
    "**Null hypothesis:** \n",
    "Sales will not imporove following television ad airing\n",
    "\n",
    "**Alternate hypothesis:** \n",
    "Sales will improve following our television ad airing"
   ]
  },
  {
   "cell_type": "markdown",
   "metadata": {},
   "source": [
    "| | H0 is true | H0 is false |\n",
    "| :--- | :--- | :--- |\n",
    "| **Accept H0** | *D'oh!* | Opportunity for gains lost | \n",
    "| **Reject H0** | Somebody paid a lot of money for nothing | *Wheee!*|"
   ]
  },
  {
   "cell_type": "markdown",
   "metadata": {},
   "source": [
    "### Has the network latency gone up since we switched internet service providers?"
   ]
  },
  {
   "cell_type": "markdown",
   "metadata": {},
   "source": [
    "**Null hypothesis:** \n",
    "Network latency metrics will not imporove following switch\n",
    "\n",
    "**Alternate hypothesis:** \n",
    "Network latency metrics will improve following switch"
   ]
  },
  {
   "cell_type": "markdown",
   "metadata": {},
   "source": [
    "| | H0 is true | H0 is false |\n",
    "| :--- | :--- | :--- |\n",
    "| **Accept H0** | *D'oh!* | Things stay crappy and people continue to complain |\n",
    "| **Reject H0** | Another somebody paid a lot of money for another nothing | *Wheee!*|"
   ]
  },
  {
   "cell_type": "markdown",
   "metadata": {},
   "source": [
    "## T-Test Exercises"
   ]
  },
  {
   "cell_type": "code",
   "execution_count": 12,
   "metadata": {},
   "outputs": [],
   "source": [
    "import numpy as np\n",
    "import viz\n",
    "import matplotlib.pyplot as plt\n",
    "import pandas as pd\n",
    "import seaborn as sns\n",
    "import datetime as dt\n",
    "from scipy import stats\n",
    "import math"
   ]
  },
  {
   "cell_type": "markdown",
   "metadata": {},
   "source": [
    "### Ace Realty\n",
    "Ace Realty wants to determine whether the average time it takes to sell homes is different for its two offices. A sample of 40 sales from office #1 revealed a mean of 90 days and a standard deviation of 15 days. A sample of 50 sales from office #2 revealed a mean of 100 days and a standard deviation of 20 days. Use a .05 level of significance."
   ]
  },
  {
   "cell_type": "code",
   "execution_count": 38,
   "metadata": {},
   "outputs": [
    {
     "name": "stdout",
     "output_type": "stream",
     "text": [
      "t = 2.62523\n",
      "p = 0.01021\n",
      "FAIL TO REJCT the null hypothesis. There IS a difference between the stores\n"
     ]
    }
   ],
   "source": [
    "#Office 1 = a, Office 2 = b, Both offices combined = pop\n",
    "\n",
    "a_samples = 40\n",
    "a_mean = 90\n",
    "a_std_dev = 15\n",
    "b_samples = 50\n",
    "b_mean = 100\n",
    "b_std_dev = 20\n",
    "alpha = .05\n",
    "\n",
    "a_std_dev_sq = a_std_dev ** 2\n",
    "b_std_dev_sq = b_std_dev ** 2\n",
    "\n",
    "a_dist = stats.norm(a_mean, a_std_dev)\n",
    "b_dist = stats.norm(b_mean, b_std_dev)\n",
    "\n",
    "# Null hypothesis: sales are same at each office\n",
    "\n",
    "degf = a_samples + b_samples - 2\n",
    "\n",
    "pop_std_dev = math.sqrt(((a_samples - 1) * a_std_dev_sq + (b_samples -1) * b_std_dev_sq) / degf)\n",
    "pop_std_err = math.sqrt((a_std_dev_sq / a_samples) + (b_std_dev_sq / b_samples))\n",
    "pop_t = abs(a_mean - b_mean) / (pop_std_dev * math.sqrt((1 / a_samples) + (1 / b_samples)))\n",
    "\n",
    "print(f't = {pop_t:.5f}')\n",
    "\n",
    "pop_p = stats.t(degf).sf(pop_t) * 2\n",
    "print(f'p = {pop_p:.5f}')\n",
    "\n",
    "to_rej = 'fail to ' if pop_p <= alpha else ''\n",
    "is_not = '' if pop_p <= alpha else ' not'\n",
    "\n",
    "print(f'{to_rej.upper()}REJCT the null hypothesis. There IS{is_not.upper()} a difference between the stores')\n",
    "\n"
   ]
  },
  {
   "cell_type": "markdown",
   "metadata": {},
   "source": [
    "### mpg dataset\n",
    "Load the mpg dataset and use it to answer the following questions:"
   ]
  },
  {
   "cell_type": "code",
   "execution_count": null,
   "metadata": {},
   "outputs": [],
   "source": []
  },
  {
   "cell_type": "markdown",
   "metadata": {},
   "source": [
    "- Is there a difference in fuel-efficiency in cars from 2008 vs 1999?"
   ]
  },
  {
   "cell_type": "code",
   "execution_count": null,
   "metadata": {},
   "outputs": [],
   "source": []
  },
  {
   "cell_type": "markdown",
   "metadata": {},
   "source": [
    "- Are compact cars more fuel-efficient than the average car?"
   ]
  },
  {
   "cell_type": "code",
   "execution_count": null,
   "metadata": {},
   "outputs": [],
   "source": []
  },
  {
   "cell_type": "markdown",
   "metadata": {},
   "source": [
    "- Do manual cars get better gas mileage than automatic cars?"
   ]
  },
  {
   "cell_type": "code",
   "execution_count": null,
   "metadata": {},
   "outputs": [],
   "source": []
  }
 ],
 "metadata": {
  "kernelspec": {
   "display_name": "Python 3",
   "language": "python",
   "name": "python3"
  },
  "language_info": {
   "codemirror_mode": {
    "name": "ipython",
    "version": 3
   },
   "file_extension": ".py",
   "mimetype": "text/x-python",
   "name": "python",
   "nbconvert_exporter": "python",
   "pygments_lexer": "ipython3",
   "version": "3.7.3"
  }
 },
 "nbformat": 4,
 "nbformat_minor": 2
}
