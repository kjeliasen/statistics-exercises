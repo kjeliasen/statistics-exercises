{
 "cells": [
  {
   "cell_type": "markdown",
   "metadata": {},
   "source": [
    "# Hypothesis Testing"
   ]
  },
  {
   "cell_type": "markdown",
   "metadata": {},
   "source": [
    "## Overview Exercises"
   ]
  },
  {
   "cell_type": "markdown",
   "metadata": {},
   "source": [
    "Do your work for this exercise in a jupyter notebook named `hypothesis_testing.ipynb`.\n",
    "\n",
    "For each of the following questions, formulate a null and alternative hypothesis (be as specific as you can be), then give an example of what a true positive, true negative, type I and type II errors would look like."
   ]
  },
  {
   "cell_type": "markdown",
   "metadata": {},
   "source": [
    "### Is the website redesign any good?"
   ]
  },
  {
   "cell_type": "markdown",
   "metadata": {},
   "source": [
    "**Null hypothesis:** \n",
    "User satisfaction scores will not imporove following webside redesign\n",
    "\n",
    "**Alternate hypothesis:** \n",
    "User satisfaction scores will improve following website redesign"
   ]
  },
  {
   "cell_type": "markdown",
   "metadata": {},
   "source": [
    "| | **H0 is true** | **H0 is false** |\n",
    "| :--- | :--- | :--- |\n",
    "| **Accept H0** | *D'oh!* | Company moves forward with sucky website |\n",
    "| **Reject H0** | Company moves forward with newer sucky website | *Wheee!* |"
   ]
  },
  {
   "cell_type": "markdown",
   "metadata": {},
   "source": [
    "### Is our television ad driving more sales?"
   ]
  },
  {
   "cell_type": "markdown",
   "metadata": {},
   "source": [
    "**Null hypothesis:** \n",
    "Sales will not imporove following television ad airing\n",
    "\n",
    "**Alternate hypothesis:** \n",
    "Sales will improve following our television ad airing"
   ]
  },
  {
   "cell_type": "markdown",
   "metadata": {},
   "source": [
    "| | H0 is true | H0 is false |\n",
    "| :--- | :--- | :--- |\n",
    "| **Accept H0** | *D'oh!* | Opportunity for gains lost | \n",
    "| **Reject H0** | Somebody paid a lot of money for nothing | *Wheee!*|"
   ]
  },
  {
   "cell_type": "markdown",
   "metadata": {},
   "source": [
    "### Has the network latency gone up since we switched internet service providers?"
   ]
  },
  {
   "cell_type": "markdown",
   "metadata": {},
   "source": [
    "**Null hypothesis:** \n",
    "Network latency metrics will not imporove following switch\n",
    "\n",
    "**Alternate hypothesis:** \n",
    "Network latency metrics will improve following switch"
   ]
  },
  {
   "cell_type": "markdown",
   "metadata": {},
   "source": [
    "| | H0 is true | H0 is false |\n",
    "| :--- | :--- | :--- |\n",
    "| **Accept H0** | *D'oh!* | Things stay crappy and people continue to complain |\n",
    "| **Reject H0** | Another somebody paid a lot of money for another nothing | *Wheee!*|"
   ]
  },
  {
   "cell_type": "markdown",
   "metadata": {},
   "source": [
    "## T-Test Exercises"
   ]
  },
  {
   "cell_type": "code",
   "execution_count": 12,
   "metadata": {},
   "outputs": [],
   "source": [
    "import numpy as np\n",
    "import viz\n",
    "import matplotlib.pyplot as plt\n",
    "import pandas as pd\n",
    "import seaborn as sns\n",
    "import datetime as dt\n",
    "from scipy import stats\n",
    "import math"
   ]
  },
  {
   "cell_type": "code",
   "execution_count": 144,
   "metadata": {},
   "outputs": [],
   "source": [
    "#Functions:\n",
    "def null_reject(p, alpha):\n",
    "    reject = p <= alpha\n",
    "    rej_ftr = '' if reject else 'FAIL TO '\n",
    "    is_isnt = '' if reject else ' NOT'\n",
    "    statement = f'{rej_ftr}REJCT the null hypothesis. There IS{is_isnt} a statistically significant difference'\n",
    "    return reject, statement"
   ]
  },
  {
   "cell_type": "markdown",
   "metadata": {},
   "source": [
    "### Ace Realty\n",
    "Ace Realty wants to determine whether the average time it takes to sell homes is different for its two offices. A sample of 40 sales from office #1 revealed a mean of 90 days and a standard deviation of 15 days. A sample of 50 sales from office #2 revealed a mean of 100 days and a standard deviation of 20 days. Use a .05 level of significance."
   ]
  },
  {
   "cell_type": "code",
   "execution_count": 145,
   "metadata": {},
   "outputs": [
    {
     "name": "stdout",
     "output_type": "stream",
     "text": [
      "t = 2.62523\n",
      "p = 0.01021\n",
      "REJCT the null hypothesis. There IS a statistically significant difference\n"
     ]
    }
   ],
   "source": [
    "#Office 1 = a, Office 2 = b, Both offices combined = pop\n",
    "\n",
    "a_samples = 40\n",
    "a_mean = 90\n",
    "a_std_dev = 15\n",
    "b_samples = 50\n",
    "b_mean = 100\n",
    "b_std_dev = 20\n",
    "alpha = .05\n",
    "\n",
    "a_std_dev_sq = a_std_dev ** 2\n",
    "b_std_dev_sq = b_std_dev ** 2\n",
    "\n",
    "a_dist = stats.norm(a_mean, a_std_dev)\n",
    "b_dist = stats.norm(b_mean, b_std_dev)\n",
    "\n",
    "# Null hypothesis: sales are same at each office\n",
    "\n",
    "degf = a_samples + b_samples - 2\n",
    "\n",
    "pop_std_dev = math.sqrt(((a_samples - 1) * a_std_dev_sq + (b_samples -1) * b_std_dev_sq) / degf)\n",
    "pop_std_err = math.sqrt((a_std_dev_sq / a_samples) + (b_std_dev_sq / b_samples))\n",
    "\n",
    "pop_t = abs(a_mean - b_mean) / (pop_std_dev * math.sqrt((1 / a_samples) + (1 / b_samples)))\n",
    "\n",
    "print(f't = {pop_t:.5f}')\n",
    "\n",
    "pop_p = stats.t(degf).sf(pop_t) * 2\n",
    "print(f'p = {pop_p:.5f}')\n",
    "\n",
    "reject, statement = null_reject(p=pop_p, alpha=alpha)\n",
    "print(statement)\n"
   ]
  },
  {
   "cell_type": "markdown",
   "metadata": {},
   "source": [
    "### mpg dataset\n",
    "Load the mpg dataset and use it to answer the following questions:"
   ]
  },
  {
   "cell_type": "code",
   "execution_count": 146,
   "metadata": {},
   "outputs": [
    {
     "data": {
      "text/html": [
       "<div>\n",
       "<style scoped>\n",
       "    .dataframe tbody tr th:only-of-type {\n",
       "        vertical-align: middle;\n",
       "    }\n",
       "\n",
       "    .dataframe tbody tr th {\n",
       "        vertical-align: top;\n",
       "    }\n",
       "\n",
       "    .dataframe thead th {\n",
       "        text-align: right;\n",
       "    }\n",
       "</style>\n",
       "<table border=\"1\" class=\"dataframe\">\n",
       "  <thead>\n",
       "    <tr style=\"text-align: right;\">\n",
       "      <th></th>\n",
       "      <th>manufacturer</th>\n",
       "      <th>model</th>\n",
       "      <th>displ</th>\n",
       "      <th>year</th>\n",
       "      <th>cyl</th>\n",
       "      <th>trans</th>\n",
       "      <th>drv</th>\n",
       "      <th>cty</th>\n",
       "      <th>hwy</th>\n",
       "      <th>fl</th>\n",
       "      <th>class</th>\n",
       "    </tr>\n",
       "  </thead>\n",
       "  <tbody>\n",
       "    <tr>\n",
       "      <th>9</th>\n",
       "      <td>audi</td>\n",
       "      <td>a4 quattro</td>\n",
       "      <td>1.8</td>\n",
       "      <td>1999</td>\n",
       "      <td>4</td>\n",
       "      <td>auto(l5)</td>\n",
       "      <td>4</td>\n",
       "      <td>16</td>\n",
       "      <td>25</td>\n",
       "      <td>p</td>\n",
       "      <td>compact</td>\n",
       "    </tr>\n",
       "    <tr>\n",
       "      <th>143</th>\n",
       "      <td>nissan</td>\n",
       "      <td>altima</td>\n",
       "      <td>2.4</td>\n",
       "      <td>1999</td>\n",
       "      <td>4</td>\n",
       "      <td>auto(l4)</td>\n",
       "      <td>f</td>\n",
       "      <td>19</td>\n",
       "      <td>27</td>\n",
       "      <td>r</td>\n",
       "      <td>compact</td>\n",
       "    </tr>\n",
       "    <tr>\n",
       "      <th>231</th>\n",
       "      <td>volkswagen</td>\n",
       "      <td>passat</td>\n",
       "      <td>2.0</td>\n",
       "      <td>2008</td>\n",
       "      <td>4</td>\n",
       "      <td>manual(m6)</td>\n",
       "      <td>f</td>\n",
       "      <td>21</td>\n",
       "      <td>29</td>\n",
       "      <td>p</td>\n",
       "      <td>midsize</td>\n",
       "    </tr>\n",
       "    <tr>\n",
       "      <th>226</th>\n",
       "      <td>volkswagen</td>\n",
       "      <td>new beetle</td>\n",
       "      <td>2.5</td>\n",
       "      <td>2008</td>\n",
       "      <td>5</td>\n",
       "      <td>manual(m5)</td>\n",
       "      <td>f</td>\n",
       "      <td>20</td>\n",
       "      <td>28</td>\n",
       "      <td>r</td>\n",
       "      <td>subcompact</td>\n",
       "    </tr>\n",
       "    <tr>\n",
       "      <th>23</th>\n",
       "      <td>chevrolet</td>\n",
       "      <td>c1500 suburban 2wd</td>\n",
       "      <td>6.0</td>\n",
       "      <td>2008</td>\n",
       "      <td>8</td>\n",
       "      <td>auto(l4)</td>\n",
       "      <td>r</td>\n",
       "      <td>12</td>\n",
       "      <td>17</td>\n",
       "      <td>r</td>\n",
       "      <td>suv</td>\n",
       "    </tr>\n",
       "  </tbody>\n",
       "</table>\n",
       "</div>"
      ],
      "text/plain": [
       "    manufacturer               model  displ  year  cyl       trans drv  cty  \\\n",
       "9           audi          a4 quattro    1.8  1999    4    auto(l5)   4   16   \n",
       "143       nissan              altima    2.4  1999    4    auto(l4)   f   19   \n",
       "231   volkswagen              passat    2.0  2008    4  manual(m6)   f   21   \n",
       "226   volkswagen          new beetle    2.5  2008    5  manual(m5)   f   20   \n",
       "23     chevrolet  c1500 suburban 2wd    6.0  2008    8    auto(l4)   r   12   \n",
       "\n",
       "     hwy fl       class  \n",
       "9     25  p     compact  \n",
       "143   27  r     compact  \n",
       "231   29  p     midsize  \n",
       "226   28  r  subcompact  \n",
       "23    17  r         suv  "
      ]
     },
     "execution_count": 146,
     "metadata": {},
     "output_type": "execute_result"
    }
   ],
   "source": [
    "from pydataset import data\n",
    "mpg = data('mpg')\n",
    "mpg.sample(5)"
   ]
  },
  {
   "cell_type": "code",
   "execution_count": 147,
   "metadata": {},
   "outputs": [
    {
     "data": {
      "text/html": [
       "<div>\n",
       "<style scoped>\n",
       "    .dataframe tbody tr th:only-of-type {\n",
       "        vertical-align: middle;\n",
       "    }\n",
       "\n",
       "    .dataframe tbody tr th {\n",
       "        vertical-align: top;\n",
       "    }\n",
       "\n",
       "    .dataframe thead th {\n",
       "        text-align: right;\n",
       "    }\n",
       "</style>\n",
       "<table border=\"1\" class=\"dataframe\">\n",
       "  <thead>\n",
       "    <tr style=\"text-align: right;\">\n",
       "      <th></th>\n",
       "      <th>manufacturer</th>\n",
       "      <th>model</th>\n",
       "      <th>displ</th>\n",
       "      <th>year</th>\n",
       "      <th>cyl</th>\n",
       "      <th>trans</th>\n",
       "      <th>drv</th>\n",
       "      <th>cty</th>\n",
       "      <th>hwy</th>\n",
       "      <th>fl</th>\n",
       "      <th>class</th>\n",
       "      <th>mean_mpg</th>\n",
       "    </tr>\n",
       "  </thead>\n",
       "  <tbody>\n",
       "    <tr>\n",
       "      <th>221</th>\n",
       "      <td>volkswagen</td>\n",
       "      <td>jetta</td>\n",
       "      <td>2.8</td>\n",
       "      <td>1999</td>\n",
       "      <td>6</td>\n",
       "      <td>manual(m5)</td>\n",
       "      <td>f</td>\n",
       "      <td>17</td>\n",
       "      <td>24</td>\n",
       "      <td>r</td>\n",
       "      <td>compact</td>\n",
       "      <td>20.5</td>\n",
       "    </tr>\n",
       "    <tr>\n",
       "      <th>143</th>\n",
       "      <td>nissan</td>\n",
       "      <td>altima</td>\n",
       "      <td>2.4</td>\n",
       "      <td>1999</td>\n",
       "      <td>4</td>\n",
       "      <td>auto(l4)</td>\n",
       "      <td>f</td>\n",
       "      <td>19</td>\n",
       "      <td>27</td>\n",
       "      <td>r</td>\n",
       "      <td>compact</td>\n",
       "      <td>23.0</td>\n",
       "    </tr>\n",
       "    <tr>\n",
       "      <th>177</th>\n",
       "      <td>toyota</td>\n",
       "      <td>4runner 4wd</td>\n",
       "      <td>3.4</td>\n",
       "      <td>1999</td>\n",
       "      <td>6</td>\n",
       "      <td>manual(m5)</td>\n",
       "      <td>4</td>\n",
       "      <td>15</td>\n",
       "      <td>17</td>\n",
       "      <td>r</td>\n",
       "      <td>suv</td>\n",
       "      <td>16.0</td>\n",
       "    </tr>\n",
       "    <tr>\n",
       "      <th>113</th>\n",
       "      <td>hyundai</td>\n",
       "      <td>sonata</td>\n",
       "      <td>2.5</td>\n",
       "      <td>1999</td>\n",
       "      <td>6</td>\n",
       "      <td>auto(l4)</td>\n",
       "      <td>f</td>\n",
       "      <td>18</td>\n",
       "      <td>26</td>\n",
       "      <td>r</td>\n",
       "      <td>midsize</td>\n",
       "      <td>22.0</td>\n",
       "    </tr>\n",
       "    <tr>\n",
       "      <th>106</th>\n",
       "      <td>honda</td>\n",
       "      <td>civic</td>\n",
       "      <td>1.8</td>\n",
       "      <td>2008</td>\n",
       "      <td>4</td>\n",
       "      <td>auto(l5)</td>\n",
       "      <td>f</td>\n",
       "      <td>25</td>\n",
       "      <td>36</td>\n",
       "      <td>r</td>\n",
       "      <td>subcompact</td>\n",
       "      <td>30.5</td>\n",
       "    </tr>\n",
       "  </tbody>\n",
       "</table>\n",
       "</div>"
      ],
      "text/plain": [
       "    manufacturer        model  displ  year  cyl       trans drv  cty  hwy fl  \\\n",
       "221   volkswagen        jetta    2.8  1999    6  manual(m5)   f   17   24  r   \n",
       "143       nissan       altima    2.4  1999    4    auto(l4)   f   19   27  r   \n",
       "177       toyota  4runner 4wd    3.4  1999    6  manual(m5)   4   15   17  r   \n",
       "113      hyundai       sonata    2.5  1999    6    auto(l4)   f   18   26  r   \n",
       "106        honda        civic    1.8  2008    4    auto(l5)   f   25   36  r   \n",
       "\n",
       "          class  mean_mpg  \n",
       "221     compact      20.5  \n",
       "143     compact      23.0  \n",
       "177         suv      16.0  \n",
       "113     midsize      22.0  \n",
       "106  subcompact      30.5  "
      ]
     },
     "execution_count": 147,
     "metadata": {},
     "output_type": "execute_result"
    }
   ],
   "source": [
    "mpg['mean_mpg'] = ((mpg.cty + mpg.hwy) / 2)\n",
    "mpg.sample(5)"
   ]
  },
  {
   "cell_type": "markdown",
   "metadata": {},
   "source": [
    "- **Is there a difference in fuel-efficiency in cars from 2008 vs 1999?**"
   ]
  },
  {
   "cell_type": "code",
   "execution_count": 148,
   "metadata": {},
   "outputs": [
    {
     "name": "stdout",
     "output_type": "stream",
     "text": [
      "1999: 117 cars, 20.22 average mpg, std_dev of 5.208\n"
     ]
    }
   ],
   "source": [
    "cars_1999 = pd.DataFrame(mpg[mpg.year == 1999])\n",
    "# cars_1999.sample(5)\n",
    "mpg_1999 = cars_1999.mean_mpg\n",
    "n_1999 = mpg_1999.count()\n",
    "mean_1999 = mpg_1999.mean()\n",
    "std_dev_1999 = mpg_1999.std()\n",
    "print(f'1999: {n_1999} cars, {mean_1999:.2f} average mpg, std_dev of {std_dev_1999:.3f}')"
   ]
  },
  {
   "cell_type": "code",
   "execution_count": 149,
   "metadata": {},
   "outputs": [
    {
     "name": "stdout",
     "output_type": "stream",
     "text": [
      "2008: 117 cars, 20.08 average mpg, std_dev of 4.909\n"
     ]
    }
   ],
   "source": [
    "cars_2008 = pd.DataFrame(mpg[mpg.year == 2008])\n",
    "# cars_2008.sample(5)\n",
    "mpg_2008 = cars_2008.mean_mpg\n",
    "n_2008 = mpg_2008.count()\n",
    "mean_2008 = mpg_2008.mean()\n",
    "std_dev_2008 = mpg_2008.std()\n",
    "print(f'2008: {n_2008} cars, {mean_2008:.2f} average mpg, std_dev of {std_dev_2008:.3f}')"
   ]
  },
  {
   "cell_type": "code",
   "execution_count": 150,
   "metadata": {},
   "outputs": [
    {
     "name": "stdout",
     "output_type": "stream",
     "text": [
      "t = 0.21960, p = 0.82637\n",
      "FAIL TO REJCT the null hypothesis. There IS NOT a statistically significant difference\n"
     ]
    }
   ],
   "source": [
    "t, p = stats.ttest_ind(mpg_1999, mpg_2008)\n",
    "print(f't = {t:.5f}, p = {p:.5f}')\n",
    "\n",
    "reject, statement = null_reject(p=p, alpha=alpha)\n",
    "print(statement)"
   ]
  },
  {
   "cell_type": "markdown",
   "metadata": {},
   "source": [
    "- **Are compact cars more fuel-efficient than the average car?**"
   ]
  },
  {
   "cell_type": "code",
   "execution_count": 151,
   "metadata": {},
   "outputs": [
    {
     "data": {
      "text/html": [
       "<div>\n",
       "<style scoped>\n",
       "    .dataframe tbody tr th:only-of-type {\n",
       "        vertical-align: middle;\n",
       "    }\n",
       "\n",
       "    .dataframe tbody tr th {\n",
       "        vertical-align: top;\n",
       "    }\n",
       "\n",
       "    .dataframe thead th {\n",
       "        text-align: right;\n",
       "    }\n",
       "</style>\n",
       "<table border=\"1\" class=\"dataframe\">\n",
       "  <thead>\n",
       "    <tr style=\"text-align: right;\">\n",
       "      <th></th>\n",
       "      <th>manufacturer</th>\n",
       "      <th>model</th>\n",
       "      <th>displ</th>\n",
       "      <th>year</th>\n",
       "      <th>cyl</th>\n",
       "      <th>trans</th>\n",
       "      <th>drv</th>\n",
       "      <th>cty</th>\n",
       "      <th>hwy</th>\n",
       "      <th>fl</th>\n",
       "      <th>class</th>\n",
       "      <th>mean_mpg</th>\n",
       "    </tr>\n",
       "  </thead>\n",
       "  <tbody>\n",
       "    <tr>\n",
       "      <th>13</th>\n",
       "      <td>audi</td>\n",
       "      <td>a4 quattro</td>\n",
       "      <td>2.8</td>\n",
       "      <td>1999</td>\n",
       "      <td>6</td>\n",
       "      <td>manual(m5)</td>\n",
       "      <td>4</td>\n",
       "      <td>17</td>\n",
       "      <td>25</td>\n",
       "      <td>p</td>\n",
       "      <td>compact</td>\n",
       "      <td>21.0</td>\n",
       "    </tr>\n",
       "    <tr>\n",
       "      <th>191</th>\n",
       "      <td>toyota</td>\n",
       "      <td>camry solara</td>\n",
       "      <td>3.0</td>\n",
       "      <td>1999</td>\n",
       "      <td>6</td>\n",
       "      <td>auto(l4)</td>\n",
       "      <td>f</td>\n",
       "      <td>18</td>\n",
       "      <td>26</td>\n",
       "      <td>r</td>\n",
       "      <td>compact</td>\n",
       "      <td>22.0</td>\n",
       "    </tr>\n",
       "    <tr>\n",
       "      <th>12</th>\n",
       "      <td>audi</td>\n",
       "      <td>a4 quattro</td>\n",
       "      <td>2.8</td>\n",
       "      <td>1999</td>\n",
       "      <td>6</td>\n",
       "      <td>auto(l5)</td>\n",
       "      <td>4</td>\n",
       "      <td>15</td>\n",
       "      <td>25</td>\n",
       "      <td>p</td>\n",
       "      <td>compact</td>\n",
       "      <td>20.0</td>\n",
       "    </tr>\n",
       "    <tr>\n",
       "      <th>143</th>\n",
       "      <td>nissan</td>\n",
       "      <td>altima</td>\n",
       "      <td>2.4</td>\n",
       "      <td>1999</td>\n",
       "      <td>4</td>\n",
       "      <td>auto(l4)</td>\n",
       "      <td>f</td>\n",
       "      <td>19</td>\n",
       "      <td>27</td>\n",
       "      <td>r</td>\n",
       "      <td>compact</td>\n",
       "      <td>23.0</td>\n",
       "    </tr>\n",
       "    <tr>\n",
       "      <th>7</th>\n",
       "      <td>audi</td>\n",
       "      <td>a4</td>\n",
       "      <td>3.1</td>\n",
       "      <td>2008</td>\n",
       "      <td>6</td>\n",
       "      <td>auto(av)</td>\n",
       "      <td>f</td>\n",
       "      <td>18</td>\n",
       "      <td>27</td>\n",
       "      <td>p</td>\n",
       "      <td>compact</td>\n",
       "      <td>22.5</td>\n",
       "    </tr>\n",
       "  </tbody>\n",
       "</table>\n",
       "</div>"
      ],
      "text/plain": [
       "    manufacturer         model  displ  year  cyl       trans drv  cty  hwy fl  \\\n",
       "13          audi    a4 quattro    2.8  1999    6  manual(m5)   4   17   25  p   \n",
       "191       toyota  camry solara    3.0  1999    6    auto(l4)   f   18   26  r   \n",
       "12          audi    a4 quattro    2.8  1999    6    auto(l5)   4   15   25  p   \n",
       "143       nissan        altima    2.4  1999    4    auto(l4)   f   19   27  r   \n",
       "7           audi            a4    3.1  2008    6    auto(av)   f   18   27  p   \n",
       "\n",
       "       class  mean_mpg  \n",
       "13   compact      21.0  \n",
       "191  compact      22.0  \n",
       "12   compact      20.0  \n",
       "143  compact      23.0  \n",
       "7    compact      22.5  "
      ]
     },
     "execution_count": 151,
     "metadata": {},
     "output_type": "execute_result"
    }
   ],
   "source": [
    "cars_compact = pd.DataFrame(mpg[mpg['class'] == 'compact'])\n",
    "cars_compact.sample(5)"
   ]
  },
  {
   "cell_type": "code",
   "execution_count": 152,
   "metadata": {},
   "outputs": [
    {
     "name": "stdout",
     "output_type": "stream",
     "text": [
      "Compacts: 47 cars, 24.21 average mpg, std_dev of 3.527\n"
     ]
    }
   ],
   "source": [
    "mpg_compact = cars_compact.mean_mpg\n",
    "n_compact = mpg_compact.count()\n",
    "mean_compact = mpg_compact.mean()\n",
    "std_dev_compact = mpg_compact.std()\n",
    "print(f'Compacts: {n_compact} cars, {mean_compact:.2f} average mpg, std_dev of {std_dev_compact:.3f}')"
   ]
  },
  {
   "cell_type": "code",
   "execution_count": 153,
   "metadata": {},
   "outputs": [
    {
     "name": "stdout",
     "output_type": "stream",
     "text": [
      "All cars: 234 cars, 20.15 average mpg, std_dev of 5.050\n"
     ]
    }
   ],
   "source": [
    "mpg_all = mpg.mean_mpg\n",
    "n_all = mpg_all.count()\n",
    "mean_all = mpg_all.mean()\n",
    "std_dev_all = mpg_all.std()\n",
    "print(f'All cars: {n_all} cars, {mean_all:.2f} average mpg, std_dev of {std_dev_all:.3f}')"
   ]
  },
  {
   "cell_type": "code",
   "execution_count": 154,
   "metadata": {},
   "outputs": [
    {
     "name": "stdout",
     "output_type": "stream",
     "text": [
      "t = 7.89689, p = 0.00000\n",
      "REJCT the null hypothesis. There IS a statistically significant difference\n"
     ]
    }
   ],
   "source": [
    "t, p = stats.ttest_1samp(mpg_compact, mean_all)\n",
    "print(f't = {t:.5f}, p = {p:.5f}')\n",
    "\n",
    "reject, statement = null_reject(p=p, alpha=alpha)\n",
    "print(statement)"
   ]
  },
  {
   "cell_type": "markdown",
   "metadata": {},
   "source": [
    "- **Do manual cars get better gas mileage than automatic cars?**\n",
    "\n",
    "    $H_0$ There is no difference between the mileage of manual and automatic cars"
   ]
  },
  {
   "cell_type": "code",
   "execution_count": 155,
   "metadata": {},
   "outputs": [
    {
     "data": {
      "text/html": [
       "<div>\n",
       "<style scoped>\n",
       "    .dataframe tbody tr th:only-of-type {\n",
       "        vertical-align: middle;\n",
       "    }\n",
       "\n",
       "    .dataframe tbody tr th {\n",
       "        vertical-align: top;\n",
       "    }\n",
       "\n",
       "    .dataframe thead th {\n",
       "        text-align: right;\n",
       "    }\n",
       "</style>\n",
       "<table border=\"1\" class=\"dataframe\">\n",
       "  <thead>\n",
       "    <tr style=\"text-align: right;\">\n",
       "      <th></th>\n",
       "      <th>manufacturer</th>\n",
       "      <th>model</th>\n",
       "      <th>displ</th>\n",
       "      <th>year</th>\n",
       "      <th>cyl</th>\n",
       "      <th>trans</th>\n",
       "      <th>drv</th>\n",
       "      <th>cty</th>\n",
       "      <th>hwy</th>\n",
       "      <th>fl</th>\n",
       "      <th>class</th>\n",
       "      <th>mean_mpg</th>\n",
       "    </tr>\n",
       "  </thead>\n",
       "  <tbody>\n",
       "    <tr>\n",
       "      <th>59</th>\n",
       "      <td>dodge</td>\n",
       "      <td>durango 4wd</td>\n",
       "      <td>4.7</td>\n",
       "      <td>2008</td>\n",
       "      <td>8</td>\n",
       "      <td>auto(l5)</td>\n",
       "      <td>4</td>\n",
       "      <td>13</td>\n",
       "      <td>17</td>\n",
       "      <td>r</td>\n",
       "      <td>suv</td>\n",
       "      <td>15.0</td>\n",
       "    </tr>\n",
       "    <tr>\n",
       "      <th>207</th>\n",
       "      <td>toyota</td>\n",
       "      <td>toyota tacoma 4wd</td>\n",
       "      <td>4.0</td>\n",
       "      <td>2008</td>\n",
       "      <td>6</td>\n",
       "      <td>auto(l5)</td>\n",
       "      <td>4</td>\n",
       "      <td>16</td>\n",
       "      <td>20</td>\n",
       "      <td>r</td>\n",
       "      <td>pickup</td>\n",
       "      <td>18.0</td>\n",
       "    </tr>\n",
       "    <tr>\n",
       "      <th>187</th>\n",
       "      <td>toyota</td>\n",
       "      <td>camry solara</td>\n",
       "      <td>2.2</td>\n",
       "      <td>1999</td>\n",
       "      <td>4</td>\n",
       "      <td>auto(l4)</td>\n",
       "      <td>f</td>\n",
       "      <td>21</td>\n",
       "      <td>27</td>\n",
       "      <td>r</td>\n",
       "      <td>compact</td>\n",
       "      <td>24.0</td>\n",
       "    </tr>\n",
       "    <tr>\n",
       "      <th>193</th>\n",
       "      <td>toyota</td>\n",
       "      <td>camry solara</td>\n",
       "      <td>3.3</td>\n",
       "      <td>2008</td>\n",
       "      <td>6</td>\n",
       "      <td>auto(s5)</td>\n",
       "      <td>f</td>\n",
       "      <td>18</td>\n",
       "      <td>27</td>\n",
       "      <td>r</td>\n",
       "      <td>compact</td>\n",
       "      <td>22.5</td>\n",
       "    </tr>\n",
       "    <tr>\n",
       "      <th>68</th>\n",
       "      <td>dodge</td>\n",
       "      <td>ram 1500 pickup 4wd</td>\n",
       "      <td>4.7</td>\n",
       "      <td>2008</td>\n",
       "      <td>8</td>\n",
       "      <td>auto(l5)</td>\n",
       "      <td>4</td>\n",
       "      <td>13</td>\n",
       "      <td>17</td>\n",
       "      <td>r</td>\n",
       "      <td>pickup</td>\n",
       "      <td>15.0</td>\n",
       "    </tr>\n",
       "  </tbody>\n",
       "</table>\n",
       "</div>"
      ],
      "text/plain": [
       "    manufacturer                model  displ  year  cyl     trans drv  cty  \\\n",
       "59         dodge          durango 4wd    4.7  2008    8  auto(l5)   4   13   \n",
       "207       toyota    toyota tacoma 4wd    4.0  2008    6  auto(l5)   4   16   \n",
       "187       toyota         camry solara    2.2  1999    4  auto(l4)   f   21   \n",
       "193       toyota         camry solara    3.3  2008    6  auto(s5)   f   18   \n",
       "68         dodge  ram 1500 pickup 4wd    4.7  2008    8  auto(l5)   4   13   \n",
       "\n",
       "     hwy fl    class  mean_mpg  \n",
       "59    17  r      suv      15.0  \n",
       "207   20  r   pickup      18.0  \n",
       "187   27  r  compact      24.0  \n",
       "193   27  r  compact      22.5  \n",
       "68    17  r   pickup      15.0  "
      ]
     },
     "execution_count": 155,
     "metadata": {},
     "output_type": "execute_result"
    }
   ],
   "source": [
    "cars_auto = pd.DataFrame(mpg[mpg.trans.str[:4] == 'auto'])\n",
    "cars_auto.sample(5)"
   ]
  },
  {
   "cell_type": "code",
   "execution_count": 156,
   "metadata": {},
   "outputs": [
    {
     "data": {
      "text/html": [
       "<div>\n",
       "<style scoped>\n",
       "    .dataframe tbody tr th:only-of-type {\n",
       "        vertical-align: middle;\n",
       "    }\n",
       "\n",
       "    .dataframe tbody tr th {\n",
       "        vertical-align: top;\n",
       "    }\n",
       "\n",
       "    .dataframe thead th {\n",
       "        text-align: right;\n",
       "    }\n",
       "</style>\n",
       "<table border=\"1\" class=\"dataframe\">\n",
       "  <thead>\n",
       "    <tr style=\"text-align: right;\">\n",
       "      <th></th>\n",
       "      <th>manufacturer</th>\n",
       "      <th>model</th>\n",
       "      <th>displ</th>\n",
       "      <th>year</th>\n",
       "      <th>cyl</th>\n",
       "      <th>trans</th>\n",
       "      <th>drv</th>\n",
       "      <th>cty</th>\n",
       "      <th>hwy</th>\n",
       "      <th>fl</th>\n",
       "      <th>class</th>\n",
       "      <th>mean_mpg</th>\n",
       "    </tr>\n",
       "  </thead>\n",
       "  <tbody>\n",
       "    <tr>\n",
       "      <th>217</th>\n",
       "      <td>volkswagen</td>\n",
       "      <td>jetta</td>\n",
       "      <td>2.0</td>\n",
       "      <td>2008</td>\n",
       "      <td>4</td>\n",
       "      <td>manual(m6)</td>\n",
       "      <td>f</td>\n",
       "      <td>21</td>\n",
       "      <td>29</td>\n",
       "      <td>p</td>\n",
       "      <td>compact</td>\n",
       "      <td>25.0</td>\n",
       "    </tr>\n",
       "    <tr>\n",
       "      <th>142</th>\n",
       "      <td>nissan</td>\n",
       "      <td>altima</td>\n",
       "      <td>2.4</td>\n",
       "      <td>1999</td>\n",
       "      <td>4</td>\n",
       "      <td>manual(m5)</td>\n",
       "      <td>f</td>\n",
       "      <td>21</td>\n",
       "      <td>29</td>\n",
       "      <td>r</td>\n",
       "      <td>compact</td>\n",
       "      <td>25.0</td>\n",
       "    </tr>\n",
       "    <tr>\n",
       "      <th>108</th>\n",
       "      <td>honda</td>\n",
       "      <td>civic</td>\n",
       "      <td>2.0</td>\n",
       "      <td>2008</td>\n",
       "      <td>4</td>\n",
       "      <td>manual(m6)</td>\n",
       "      <td>f</td>\n",
       "      <td>21</td>\n",
       "      <td>29</td>\n",
       "      <td>p</td>\n",
       "      <td>subcompact</td>\n",
       "      <td>25.0</td>\n",
       "    </tr>\n",
       "    <tr>\n",
       "      <th>224</th>\n",
       "      <td>volkswagen</td>\n",
       "      <td>new beetle</td>\n",
       "      <td>2.0</td>\n",
       "      <td>1999</td>\n",
       "      <td>4</td>\n",
       "      <td>manual(m5)</td>\n",
       "      <td>f</td>\n",
       "      <td>21</td>\n",
       "      <td>29</td>\n",
       "      <td>r</td>\n",
       "      <td>subcompact</td>\n",
       "      <td>25.0</td>\n",
       "    </tr>\n",
       "    <tr>\n",
       "      <th>197</th>\n",
       "      <td>toyota</td>\n",
       "      <td>corolla</td>\n",
       "      <td>1.8</td>\n",
       "      <td>2008</td>\n",
       "      <td>4</td>\n",
       "      <td>manual(m5)</td>\n",
       "      <td>f</td>\n",
       "      <td>28</td>\n",
       "      <td>37</td>\n",
       "      <td>r</td>\n",
       "      <td>compact</td>\n",
       "      <td>32.5</td>\n",
       "    </tr>\n",
       "  </tbody>\n",
       "</table>\n",
       "</div>"
      ],
      "text/plain": [
       "    manufacturer       model  displ  year  cyl       trans drv  cty  hwy fl  \\\n",
       "217   volkswagen       jetta    2.0  2008    4  manual(m6)   f   21   29  p   \n",
       "142       nissan      altima    2.4  1999    4  manual(m5)   f   21   29  r   \n",
       "108        honda       civic    2.0  2008    4  manual(m6)   f   21   29  p   \n",
       "224   volkswagen  new beetle    2.0  1999    4  manual(m5)   f   21   29  r   \n",
       "197       toyota     corolla    1.8  2008    4  manual(m5)   f   28   37  r   \n",
       "\n",
       "          class  mean_mpg  \n",
       "217     compact      25.0  \n",
       "142     compact      25.0  \n",
       "108  subcompact      25.0  \n",
       "224  subcompact      25.0  \n",
       "197     compact      32.5  "
      ]
     },
     "execution_count": 156,
     "metadata": {},
     "output_type": "execute_result"
    }
   ],
   "source": [
    "cars_manual = pd.DataFrame(mpg[mpg.trans.str[:6] == 'manual'])\n",
    "cars_manual.sample(5)"
   ]
  },
  {
   "cell_type": "code",
   "execution_count": 157,
   "metadata": {},
   "outputs": [
    {
     "name": "stdout",
     "output_type": "stream",
     "text": [
      "Automatics: 157 cars, 19.13 average mpg, std_dev of 4.684\n"
     ]
    }
   ],
   "source": [
    "mpg_auto = cars_auto.mean_mpg\n",
    "n_auto = mpg_auto.count()\n",
    "mean_auto = mpg_auto.mean()\n",
    "std_dev_auto = mpg_auto.std()\n",
    "print(f'Automatics: {n_auto} cars, {mean_auto:.2f} average mpg, std_dev of {std_dev_auto:.3f}')"
   ]
  },
  {
   "cell_type": "code",
   "execution_count": 158,
   "metadata": {},
   "outputs": [
    {
     "name": "stdout",
     "output_type": "stream",
     "text": [
      "Mauals: 77 cars, 22.23 average mpg, std_dev of 5.161\n"
     ]
    }
   ],
   "source": [
    "mpg_manual = cars_manual.mean_mpg\n",
    "n_manual = mpg_manual.count()\n",
    "mean_manual = mpg_manual.mean()\n",
    "std_dev_manual = mpg_manual.std()\n",
    "print(f'Mauals: {n_manual} cars, {mean_manual:.2f} average mpg, std_dev of {std_dev_manual:.3f}')"
   ]
  },
  {
   "cell_type": "code",
   "execution_count": 159,
   "metadata": {},
   "outputs": [
    {
     "name": "stdout",
     "output_type": "stream",
     "text": [
      "t = -4.59344, p = 0.00001\n",
      "REJCT the null hypothesis. There IS a statistically significant difference\n"
     ]
    }
   ],
   "source": [
    "t, p = stats.ttest_ind(mpg_auto, mpg_manual)\n",
    "print(f't = {t:.5f}, p = {p:.5f}')\n",
    "\n",
    "reject, statement = null_reject(p=p, alpha=alpha)\n",
    "print(statement)"
   ]
  },
  {
   "cell_type": "markdown",
   "metadata": {},
   "source": [
    "### Correlation Examples"
   ]
  },
  {
   "cell_type": "markdown",
   "metadata": {},
   "source": [
    "**In-class Example:**\n",
    "Is there a linear relationship between engine displacement and city mileage?"
   ]
  },
  {
   "cell_type": "code",
   "execution_count": 168,
   "metadata": {},
   "outputs": [
    {
     "data": {
      "text/html": [
       "<div>\n",
       "<style scoped>\n",
       "    .dataframe tbody tr th:only-of-type {\n",
       "        vertical-align: middle;\n",
       "    }\n",
       "\n",
       "    .dataframe tbody tr th {\n",
       "        vertical-align: top;\n",
       "    }\n",
       "\n",
       "    .dataframe thead th {\n",
       "        text-align: right;\n",
       "    }\n",
       "</style>\n",
       "<table border=\"1\" class=\"dataframe\">\n",
       "  <thead>\n",
       "    <tr style=\"text-align: right;\">\n",
       "      <th></th>\n",
       "      <th>manufacturer</th>\n",
       "      <th>model</th>\n",
       "      <th>displ</th>\n",
       "      <th>year</th>\n",
       "      <th>cyl</th>\n",
       "      <th>trans</th>\n",
       "      <th>drv</th>\n",
       "      <th>cty</th>\n",
       "      <th>hwy</th>\n",
       "      <th>fl</th>\n",
       "      <th>class</th>\n",
       "    </tr>\n",
       "  </thead>\n",
       "  <tbody>\n",
       "    <tr>\n",
       "      <th>37</th>\n",
       "      <td>chevrolet</td>\n",
       "      <td>malibu</td>\n",
       "      <td>3.6</td>\n",
       "      <td>2008</td>\n",
       "      <td>6</td>\n",
       "      <td>auto(s6)</td>\n",
       "      <td>f</td>\n",
       "      <td>17</td>\n",
       "      <td>26</td>\n",
       "      <td>r</td>\n",
       "      <td>midsize</td>\n",
       "    </tr>\n",
       "    <tr>\n",
       "      <th>147</th>\n",
       "      <td>nissan</td>\n",
       "      <td>altima</td>\n",
       "      <td>3.5</td>\n",
       "      <td>2008</td>\n",
       "      <td>6</td>\n",
       "      <td>auto(av)</td>\n",
       "      <td>f</td>\n",
       "      <td>19</td>\n",
       "      <td>26</td>\n",
       "      <td>p</td>\n",
       "      <td>midsize</td>\n",
       "    </tr>\n",
       "    <tr>\n",
       "      <th>200</th>\n",
       "      <td>toyota</td>\n",
       "      <td>land cruiser wagon 4wd</td>\n",
       "      <td>5.7</td>\n",
       "      <td>2008</td>\n",
       "      <td>8</td>\n",
       "      <td>auto(s6)</td>\n",
       "      <td>4</td>\n",
       "      <td>13</td>\n",
       "      <td>18</td>\n",
       "      <td>r</td>\n",
       "      <td>suv</td>\n",
       "    </tr>\n",
       "    <tr>\n",
       "      <th>54</th>\n",
       "      <td>dodge</td>\n",
       "      <td>dakota pickup 4wd</td>\n",
       "      <td>4.7</td>\n",
       "      <td>2008</td>\n",
       "      <td>8</td>\n",
       "      <td>auto(l5)</td>\n",
       "      <td>4</td>\n",
       "      <td>14</td>\n",
       "      <td>19</td>\n",
       "      <td>r</td>\n",
       "      <td>pickup</td>\n",
       "    </tr>\n",
       "    <tr>\n",
       "      <th>234</th>\n",
       "      <td>volkswagen</td>\n",
       "      <td>passat</td>\n",
       "      <td>3.6</td>\n",
       "      <td>2008</td>\n",
       "      <td>6</td>\n",
       "      <td>auto(s6)</td>\n",
       "      <td>f</td>\n",
       "      <td>17</td>\n",
       "      <td>26</td>\n",
       "      <td>p</td>\n",
       "      <td>midsize</td>\n",
       "    </tr>\n",
       "  </tbody>\n",
       "</table>\n",
       "</div>"
      ],
      "text/plain": [
       "    manufacturer                   model  displ  year  cyl     trans drv  cty  \\\n",
       "37     chevrolet                  malibu    3.6  2008    6  auto(s6)   f   17   \n",
       "147       nissan                  altima    3.5  2008    6  auto(av)   f   19   \n",
       "200       toyota  land cruiser wagon 4wd    5.7  2008    8  auto(s6)   4   13   \n",
       "54         dodge       dakota pickup 4wd    4.7  2008    8  auto(l5)   4   14   \n",
       "234   volkswagen                  passat    3.6  2008    6  auto(s6)   f   17   \n",
       "\n",
       "     hwy fl    class  \n",
       "37    26  r  midsize  \n",
       "147   26  p  midsize  \n",
       "200   18  r      suv  \n",
       "54    19  r   pickup  \n",
       "234   26  p  midsize  "
      ]
     },
     "execution_count": 168,
     "metadata": {},
     "output_type": "execute_result"
    }
   ],
   "source": [
    "from pydataset import data\n",
    "mpg = data('mpg')\n",
    "mpg.sample(5)"
   ]
  },
  {
   "cell_type": "code",
   "execution_count": 199,
   "metadata": {},
   "outputs": [
    {
     "data": {
      "image/png": "[encoded data removed]",
      "text/plain": [
       "<Figure size 432x432 with 3 Axes>"
      ]
     },
     "metadata": {
      "needs_background": "light"
     },
     "output_type": "display_data"
    }
   ],
   "source": [
    "displ = mpg.displ\n",
    "cty = mpg.cty\n",
    "plots = pd.DataFrame(list(zip(displ, cty)), columns=['displ', 'cty'])\n",
    "r, p = stats.pearsonr(displ, cty)\n",
    "#plots.sample(5)\n",
    "sns.jointplot(data=mpg, x=mpg.displ, y=mpg.cty)\n",
    "plt.show()"
   ]
  },
  {
   "cell_type": "code",
   "execution_count": 176,
   "metadata": {},
   "outputs": [
    {
     "name": "stdout",
     "output_type": "stream",
     "text": [
      "These parameters have an r-value of -0.799 and p-value of 0.00000\n",
      "REJCT the null hypothesis. There IS a statistically significant difference\n"
     ]
    }
   ],
   "source": [
    "print(f'These parameters have an r-value of {r:.3f} and p-value of {p:.5f}')\n",
    "\n",
    "reject, statement = null_reject(p, alpha)\n",
    "print(statement)"
   ]
  },
  {
   "cell_type": "code",
   "execution_count": 198,
   "metadata": {},
   "outputs": [
    {
     "data": {
      "image/png": "[encoded data removed]",
      "text/plain": [
       "<Figure size 432x432 with 3 Axes>"
      ]
     },
     "metadata": {
      "needs_background": "light"
     },
     "output_type": "display_data"
    }
   ],
   "source": [
    "hwy = mpg.hwy\n",
    "r, p = stats.pearsonr(displ, hwy)\n",
    "sns.jointplot(data=mpg, x=mpg.displ, y=mpg.hwy)\n",
    "plt.show()"
   ]
  },
  {
   "cell_type": "code",
   "execution_count": 179,
   "metadata": {},
   "outputs": [
    {
     "name": "stdout",
     "output_type": "stream",
     "text": [
      "These parameters have an r-value of -0.766 and p-value of 0.00000\n",
      "REJCT the null hypothesis. There IS a statistically significant difference\n"
     ]
    }
   ],
   "source": [
    "print(f'These parameters have an r-value of {r:.3f} and p-value of {p:.5f}')\n",
    "\n",
    "reject, statement = null_reject(p, alpha)\n",
    "print(statement)"
   ]
  },
  {
   "cell_type": "markdown",
   "metadata": {},
   "source": [
    "1. **Use the** `telco_churn` **data.**"
   ]
  },
  {
   "cell_type": "code",
   "execution_count": 201,
   "metadata": {},
   "outputs": [],
   "source": [
    "from env import host, user, password\n",
    "#url = f'mysql+pymysql://{user}:{password}@{host}/employees'\n",
    "def get_db_url(user, password, host, database):\n",
    "    return f'mysql+pymysql://{user}:{password}@{host}/{database}'\n"
   ]
  },
  {
   "cell_type": "code",
   "execution_count": 253,
   "metadata": {},
   "outputs": [
    {
     "data": {
      "text/html": [
       "<div>\n",
       "<style scoped>\n",
       "    .dataframe tbody tr th:only-of-type {\n",
       "        vertical-align: middle;\n",
       "    }\n",
       "\n",
       "    .dataframe tbody tr th {\n",
       "        vertical-align: top;\n",
       "    }\n",
       "\n",
       "    .dataframe thead th {\n",
       "        text-align: right;\n",
       "    }\n",
       "</style>\n",
       "<table border=\"1\" class=\"dataframe\">\n",
       "  <thead>\n",
       "    <tr style=\"text-align: right;\">\n",
       "      <th></th>\n",
       "      <th>customer_id</th>\n",
       "      <th>gender</th>\n",
       "      <th>senior_citizen</th>\n",
       "      <th>partner</th>\n",
       "      <th>dependents</th>\n",
       "      <th>tenure</th>\n",
       "      <th>phone_service</th>\n",
       "      <th>multiple_lines</th>\n",
       "      <th>internet_service_type_id</th>\n",
       "      <th>online_security</th>\n",
       "      <th>...</th>\n",
       "      <th>tech_support</th>\n",
       "      <th>streaming_tv</th>\n",
       "      <th>streaming_movies</th>\n",
       "      <th>contract_type_id</th>\n",
       "      <th>paperless_billing</th>\n",
       "      <th>payment_type_id</th>\n",
       "      <th>monthly_charges</th>\n",
       "      <th>total_charges</th>\n",
       "      <th>churn</th>\n",
       "      <th>service_type</th>\n",
       "    </tr>\n",
       "  </thead>\n",
       "  <tbody>\n",
       "    <tr>\n",
       "      <th>3794</th>\n",
       "      <td>5336-UFNZP</td>\n",
       "      <td>Female</td>\n",
       "      <td>1</td>\n",
       "      <td>Yes</td>\n",
       "      <td>Yes</td>\n",
       "      <td>65</td>\n",
       "      <td>Yes</td>\n",
       "      <td>Yes</td>\n",
       "      <td>2</td>\n",
       "      <td>No</td>\n",
       "      <td>...</td>\n",
       "      <td>No</td>\n",
       "      <td>Yes</td>\n",
       "      <td>Yes</td>\n",
       "      <td>2</td>\n",
       "      <td>Yes</td>\n",
       "      <td>1</td>\n",
       "      <td>107.45</td>\n",
       "      <td>7047.5</td>\n",
       "      <td>No</td>\n",
       "      <td>phone and internet</td>\n",
       "    </tr>\n",
       "    <tr>\n",
       "      <th>5536</th>\n",
       "      <td>7797-EJMDP</td>\n",
       "      <td>Female</td>\n",
       "      <td>0</td>\n",
       "      <td>No</td>\n",
       "      <td>No</td>\n",
       "      <td>8</td>\n",
       "      <td>Yes</td>\n",
       "      <td>No</td>\n",
       "      <td>1</td>\n",
       "      <td>Yes</td>\n",
       "      <td>...</td>\n",
       "      <td>Yes</td>\n",
       "      <td>No</td>\n",
       "      <td>Yes</td>\n",
       "      <td>1</td>\n",
       "      <td>No</td>\n",
       "      <td>3</td>\n",
       "      <td>66.05</td>\n",
       "      <td>574.5</td>\n",
       "      <td>No</td>\n",
       "      <td>phone and internet</td>\n",
       "    </tr>\n",
       "    <tr>\n",
       "      <th>6036</th>\n",
       "      <td>8550-XSXUQ</td>\n",
       "      <td>Male</td>\n",
       "      <td>0</td>\n",
       "      <td>Yes</td>\n",
       "      <td>No</td>\n",
       "      <td>48</td>\n",
       "      <td>Yes</td>\n",
       "      <td>Yes</td>\n",
       "      <td>1</td>\n",
       "      <td>No</td>\n",
       "      <td>...</td>\n",
       "      <td>No</td>\n",
       "      <td>No</td>\n",
       "      <td>Yes</td>\n",
       "      <td>2</td>\n",
       "      <td>Yes</td>\n",
       "      <td>4</td>\n",
       "      <td>70.55</td>\n",
       "      <td>3420.5</td>\n",
       "      <td>No</td>\n",
       "      <td>phone and internet</td>\n",
       "    </tr>\n",
       "    <tr>\n",
       "      <th>6855</th>\n",
       "      <td>9739-JLPQJ</td>\n",
       "      <td>Female</td>\n",
       "      <td>0</td>\n",
       "      <td>Yes</td>\n",
       "      <td>Yes</td>\n",
       "      <td>72</td>\n",
       "      <td>Yes</td>\n",
       "      <td>Yes</td>\n",
       "      <td>2</td>\n",
       "      <td>Yes</td>\n",
       "      <td>...</td>\n",
       "      <td>Yes</td>\n",
       "      <td>Yes</td>\n",
       "      <td>Yes</td>\n",
       "      <td>3</td>\n",
       "      <td>No</td>\n",
       "      <td>4</td>\n",
       "      <td>117.50</td>\n",
       "      <td>8670.1</td>\n",
       "      <td>No</td>\n",
       "      <td>phone and internet</td>\n",
       "    </tr>\n",
       "    <tr>\n",
       "      <th>4942</th>\n",
       "      <td>6961-MJKBO</td>\n",
       "      <td>Male</td>\n",
       "      <td>0</td>\n",
       "      <td>No</td>\n",
       "      <td>No</td>\n",
       "      <td>47</td>\n",
       "      <td>Yes</td>\n",
       "      <td>No</td>\n",
       "      <td>3</td>\n",
       "      <td>No internet service</td>\n",
       "      <td>...</td>\n",
       "      <td>No internet service</td>\n",
       "      <td>No internet service</td>\n",
       "      <td>No internet service</td>\n",
       "      <td>3</td>\n",
       "      <td>No</td>\n",
       "      <td>3</td>\n",
       "      <td>20.45</td>\n",
       "      <td>943.0</td>\n",
       "      <td>No</td>\n",
       "      <td>phone only</td>\n",
       "    </tr>\n",
       "  </tbody>\n",
       "</table>\n",
       "<p>5 rows × 22 columns</p>\n",
       "</div>"
      ],
      "text/plain": [
       "     customer_id  gender  senior_citizen partner dependents  tenure  \\\n",
       "3794  5336-UFNZP  Female               1     Yes        Yes      65   \n",
       "5536  7797-EJMDP  Female               0      No         No       8   \n",
       "6036  8550-XSXUQ    Male               0     Yes         No      48   \n",
       "6855  9739-JLPQJ  Female               0     Yes        Yes      72   \n",
       "4942  6961-MJKBO    Male               0      No         No      47   \n",
       "\n",
       "     phone_service multiple_lines  internet_service_type_id  \\\n",
       "3794           Yes            Yes                         2   \n",
       "5536           Yes             No                         1   \n",
       "6036           Yes            Yes                         1   \n",
       "6855           Yes            Yes                         2   \n",
       "4942           Yes             No                         3   \n",
       "\n",
       "          online_security  ...         tech_support         streaming_tv  \\\n",
       "3794                   No  ...                   No                  Yes   \n",
       "5536                  Yes  ...                  Yes                   No   \n",
       "6036                   No  ...                   No                   No   \n",
       "6855                  Yes  ...                  Yes                  Yes   \n",
       "4942  No internet service  ...  No internet service  No internet service   \n",
       "\n",
       "         streaming_movies contract_type_id paperless_billing  payment_type_id  \\\n",
       "3794                  Yes                2               Yes                1   \n",
       "5536                  Yes                1                No                3   \n",
       "6036                  Yes                2               Yes                4   \n",
       "6855                  Yes                3                No                4   \n",
       "4942  No internet service                3                No                3   \n",
       "\n",
       "     monthly_charges  total_charges  churn        service_type  \n",
       "3794          107.45         7047.5     No  phone and internet  \n",
       "5536           66.05          574.5     No  phone and internet  \n",
       "6036           70.55         3420.5     No  phone and internet  \n",
       "6855          117.50         8670.1     No  phone and internet  \n",
       "4942           20.45          943.0     No          phone only  \n",
       "\n",
       "[5 rows x 22 columns]"
      ]
     },
     "execution_count": 253,
     "metadata": {},
     "output_type": "execute_result"
    }
   ],
   "source": [
    "telco_url = get_db_url(user, password, host, database='telco_churn')\n",
    "customers = pd.read_sql('''\n",
    "SELECT\n",
    "    customer_id,\n",
    "    gender,\n",
    "    senior_citizen,\n",
    "    partner,\n",
    "    dependents,\n",
    "    tenure,\n",
    "    phone_service,\n",
    "    multiple_lines,\n",
    "    internet_service_type_id,\n",
    "    online_security,\n",
    "    online_backup,\n",
    "    device_protection,\n",
    "    tech_support,\n",
    "    streaming_tv,\n",
    "    streaming_movies,\n",
    "    contract_type_id,\n",
    "    paperless_billing,\n",
    "    payment_type_id,\n",
    "    cast(monthly_charges as decimal(11,2)) monthly_charges,\n",
    "    cast((case when total_charges IS NULL then 0.00 else total_charges end) as decimal(11, 2)) total_charges,\n",
    "    churn,\n",
    "    (case when phone_service = 'Yes' then case when internet_service_type_id = 3 then 'phone only' else 'phone and internet' end else 'internet only' end) service_type\n",
    "FROM\n",
    "    customers\n",
    "''', telco_url)\n",
    "#customers.total_charges = customers.total_charges.apply(lambda x: 0 if len(x.str) == 0 else x)\n",
    "customers.sample(5)\n"
   ]
  },
  {
   "cell_type": "code",
   "execution_count": 282,
   "metadata": {},
   "outputs": [
    {
     "name": "stdout",
     "output_type": "stream",
     "text": [
      "(7043, 22)\n",
      "customer_id                  object\n",
      "gender                       object\n",
      "senior_citizen                int64\n",
      "partner                      object\n",
      "dependents                   object\n",
      "tenure                        int64\n",
      "phone_service                object\n",
      "multiple_lines               object\n",
      "internet_service_type_id      int64\n",
      "online_security              object\n",
      "online_backup                object\n",
      "device_protection            object\n",
      "tech_support                 object\n",
      "streaming_tv                 object\n",
      "streaming_movies             object\n",
      "contract_type_id              int64\n",
      "paperless_billing            object\n",
      "payment_type_id               int64\n",
      "monthly_charges             float64\n",
      "total_charges               float64\n",
      "churn                        object\n",
      "service_type                 object\n",
      "dtype: object\n"
     ]
    }
   ],
   "source": [
    "print(customers.shape)\n",
    "print(customers.dtypes)"
   ]
  },
  {
   "cell_type": "markdown",
   "metadata": {},
   "source": [
    "- Does tenure correlate with monthly charges?"
   ]
  },
  {
   "cell_type": "code",
   "execution_count": 229,
   "metadata": {},
   "outputs": [
    {
     "data": {
      "image/png": "[encoded data removed]",
      "text/plain": [
       "<Figure size 432x432 with 3 Axes>"
      ]
     },
     "metadata": {
      "needs_background": "light"
     },
     "output_type": "display_data"
    }
   ],
   "source": [
    "r, p = stats.pearsonr(customers.tenure, customers.monthly_charges)\n",
    "sns.jointplot(data=customers, x=customers.tenure, y=customers.monthly_charges)\n",
    "plt.show()"
   ]
  },
  {
   "cell_type": "code",
   "execution_count": 230,
   "metadata": {},
   "outputs": [
    {
     "name": "stdout",
     "output_type": "stream",
     "text": [
      "These parameters have an r-value of 0.248 and p-value of 0.00000\n",
      "REJCT the null hypothesis. There IS a statistically significant difference\n"
     ]
    }
   ],
   "source": [
    "print(f'These parameters have an r-value of {r:.3f} and p-value of {p:.5f}')\n",
    "\n",
    "reject, statement = null_reject(p, alpha)\n",
    "print(statement)"
   ]
  },
  {
   "cell_type": "markdown",
   "metadata": {},
   "source": [
    "- Total charges? "
   ]
  },
  {
   "cell_type": "code",
   "execution_count": 231,
   "metadata": {},
   "outputs": [
    {
     "data": {
      "image/png": "[encoded data removed]",
      "text/plain": [
       "<Figure size 432x432 with 3 Axes>"
      ]
     },
     "metadata": {
      "needs_background": "light"
     },
     "output_type": "display_data"
    }
   ],
   "source": [
    "r, p = stats.pearsonr(customers.tenure, customers.total_charges)\n",
    "sns.jointplot(data=customers, x=customers.tenure, y=customers.total_charges)\n",
    "plt.show()"
   ]
  },
  {
   "cell_type": "code",
   "execution_count": 232,
   "metadata": {},
   "outputs": [
    {
     "name": "stdout",
     "output_type": "stream",
     "text": [
      "These parameters have an r-value of 0.826 and p-value of 0.00000\n",
      "REJCT the null hypothesis. There IS a statistically significant difference\n"
     ]
    }
   ],
   "source": [
    "print(f'These parameters have an r-value of {r:.3f} and p-value of {p:.5f}')\n",
    "\n",
    "reject, statement = null_reject(p, alpha)\n",
    "print(statement)"
   ]
  },
  {
   "cell_type": "markdown",
   "metadata": {},
   "source": [
    "- What happens if you control for phone and internet service"
   ]
  },
  {
   "cell_type": "code",
   "execution_count": 259,
   "metadata": {},
   "outputs": [
    {
     "data": {
      "image/png": "[encoded data removed]",
      "text/plain": [
       "<Figure size 492x360 with 1 Axes>"
      ]
     },
     "metadata": {
      "needs_background": "light"
     },
     "output_type": "display_data"
    }
   ],
   "source": [
    "r, p = stats.pearsonr(customers.tenure, customers.total_charges)\n",
    "sns.relplot(data=customers, x='tenure', y='total_charges', hue='service_type')\n",
    "plt.show()"
   ]
  },
  {
   "cell_type": "code",
   "execution_count": 275,
   "metadata": {},
   "outputs": [
    {
     "name": "stdout",
     "output_type": "stream",
     "text": [
      "(1526, 22)\n",
      "(4835, 22)\n",
      "(682, 22)\n"
     ]
    }
   ],
   "source": [
    "customers_po = customers[customers.service_type == 'phone only']\n",
    "print(customers_po.shape)\n",
    "customers_pi = customers[customers.service_type == 'phone and internet']\n",
    "print(customers_pi.shape)\n",
    "customers_io = customers[customers.service_type == 'internet only']\n",
    "print(customers_io.shape)"
   ]
  },
  {
   "cell_type": "code",
   "execution_count": 285,
   "metadata": {},
   "outputs": [
    {
     "data": {
      "image/png": "[encoded data removed]",
      "text/plain": [
       "<Figure size 432x432 with 3 Axes>"
      ]
     },
     "metadata": {
      "needs_background": "light"
     },
     "output_type": "display_data"
    },
    {
     "name": "stdout",
     "output_type": "stream",
     "text": [
      "These parameters have an r-value of 0.982 and p-value of 0.00000\n",
      "REJCT the null hypothesis. There IS a statistically significant difference\n"
     ]
    }
   ],
   "source": [
    "r, p = stats.pearsonr(customers_po.tenure, customers_po.total_charges)\n",
    "sns.jointplot(data=customers_po, x=customers_po.tenure, y=customers_po.total_charges, color='g')\n",
    "plt.show()\n",
    "print(f'These parameters have an r-value of {r:.3f} and p-value of {p:.5f}')\n",
    "\n",
    "reject, statement = null_reject(p, alpha)\n",
    "print(statement)"
   ]
  },
  {
   "cell_type": "code",
   "execution_count": 286,
   "metadata": {},
   "outputs": [
    {
     "data": {
      "image/png": "[encoded data removed]",
      "text/plain": [
       "<Figure size 432x432 with 3 Axes>"
      ]
     },
     "metadata": {
      "needs_background": "light"
     },
     "output_type": "display_data"
    },
    {
     "name": "stdout",
     "output_type": "stream",
     "text": [
      "These parameters have an r-value of 0.958 and p-value of 0.00000\n",
      "REJCT the null hypothesis. There IS a statistically significant difference\n"
     ]
    }
   ],
   "source": [
    "r, p = stats.pearsonr(customers_pi.tenure, customers_pi.total_charges)\n",
    "sns.jointplot(data=customers_pi, x=customers_pi.tenure, y=customers_pi.total_charges, color='blue')\n",
    "plt.show()\n",
    "print(f'These parameters have an r-value of {r:.3f} and p-value of {p:.5f}')\n",
    "\n",
    "reject, statement = null_reject(p, alpha)\n",
    "print(statement)"
   ]
  },
  {
   "cell_type": "code",
   "execution_count": 287,
   "metadata": {},
   "outputs": [
    {
     "data": {
      "image/png": "[encoded data removed]",
      "text/plain": [
       "<Figure size 432x432 with 3 Axes>"
      ]
     },
     "metadata": {
      "needs_background": "light"
     },
     "output_type": "display_data"
    },
    {
     "name": "stdout",
     "output_type": "stream",
     "text": [
      "These parameters have an r-value of 0.954 and p-value of 0.00000\n",
      "REJCT the null hypothesis. There IS a statistically significant difference\n"
     ]
    }
   ],
   "source": [
    "r, p = stats.pearsonr(customers_io.tenure, customers_io.total_charges)\n",
    "sns.jointplot(data=customers_io, x=customers_io.tenure, y=customers_io.total_charges, color='orange')\n",
    "plt.show()\n",
    "print(f'These parameters have an r-value of {r:.3f} and p-value of {p:.5f}')\n",
    "\n",
    "reject, statement = null_reject(p, alpha)\n",
    "print(statement)"
   ]
  },
  {
   "cell_type": "markdown",
   "metadata": {},
   "source": [
    "2. **Use the** `employees` **database.**"
   ]
  },
  {
   "cell_type": "code",
   "execution_count": 305,
   "metadata": {},
   "outputs": [
    {
     "name": "stdout",
     "output_type": "stream",
     "text": [
      "(240124, 15)\n",
      "emp_no          int64\n",
      "birth_date     object\n",
      "first_name     object\n",
      "last_name      object\n",
      "gender         object\n",
      "hire_date      object\n",
      "tenure          int64\n",
      "title          object\n",
      "title_from     object\n",
      "t_tenure        int64\n",
      "titles          int64\n",
      "salary          int64\n",
      "salary_from    object\n",
      "s_tenure        int64\n",
      "salaries        int64\n",
      "dtype: object\n"
     ]
    },
    {
     "data": {
      "text/html": [
       "<div>\n",
       "<style scoped>\n",
       "    .dataframe tbody tr th:only-of-type {\n",
       "        vertical-align: middle;\n",
       "    }\n",
       "\n",
       "    .dataframe tbody tr th {\n",
       "        vertical-align: top;\n",
       "    }\n",
       "\n",
       "    .dataframe thead th {\n",
       "        text-align: right;\n",
       "    }\n",
       "</style>\n",
       "<table border=\"1\" class=\"dataframe\">\n",
       "  <thead>\n",
       "    <tr style=\"text-align: right;\">\n",
       "      <th></th>\n",
       "      <th>emp_no</th>\n",
       "      <th>birth_date</th>\n",
       "      <th>first_name</th>\n",
       "      <th>last_name</th>\n",
       "      <th>gender</th>\n",
       "      <th>hire_date</th>\n",
       "      <th>tenure</th>\n",
       "      <th>title</th>\n",
       "      <th>title_from</th>\n",
       "      <th>t_tenure</th>\n",
       "      <th>titles</th>\n",
       "      <th>salary</th>\n",
       "      <th>salary_from</th>\n",
       "      <th>s_tenure</th>\n",
       "      <th>salaries</th>\n",
       "    </tr>\n",
       "  </thead>\n",
       "  <tbody>\n",
       "    <tr>\n",
       "      <th>116578</th>\n",
       "      <td>245423</td>\n",
       "      <td>1956-06-16</td>\n",
       "      <td>Roded</td>\n",
       "      <td>Hemaspaandra</td>\n",
       "      <td>F</td>\n",
       "      <td>1989-07-21</td>\n",
       "      <td>4819</td>\n",
       "      <td>Technique Leader</td>\n",
       "      <td>1989-07-21</td>\n",
       "      <td>4819</td>\n",
       "      <td>1</td>\n",
       "      <td>71785</td>\n",
       "      <td>2002-07-18</td>\n",
       "      <td>74</td>\n",
       "      <td>14</td>\n",
       "    </tr>\n",
       "    <tr>\n",
       "      <th>199090</th>\n",
       "      <td>448645</td>\n",
       "      <td>1961-06-24</td>\n",
       "      <td>Inderjeet</td>\n",
       "      <td>Valtorta</td>\n",
       "      <td>F</td>\n",
       "      <td>1990-07-12</td>\n",
       "      <td>4463</td>\n",
       "      <td>Senior Engineer</td>\n",
       "      <td>1999-01-06</td>\n",
       "      <td>1363</td>\n",
       "      <td>2</td>\n",
       "      <td>72868</td>\n",
       "      <td>2002-01-04</td>\n",
       "      <td>269</td>\n",
       "      <td>10</td>\n",
       "    </tr>\n",
       "    <tr>\n",
       "      <th>136830</th>\n",
       "      <td>270784</td>\n",
       "      <td>1953-10-11</td>\n",
       "      <td>Piyush</td>\n",
       "      <td>Docker</td>\n",
       "      <td>M</td>\n",
       "      <td>1987-01-07</td>\n",
       "      <td>5745</td>\n",
       "      <td>Senior Staff</td>\n",
       "      <td>1995-01-07</td>\n",
       "      <td>2823</td>\n",
       "      <td>2</td>\n",
       "      <td>91056</td>\n",
       "      <td>2002-01-03</td>\n",
       "      <td>270</td>\n",
       "      <td>16</td>\n",
       "    </tr>\n",
       "    <tr>\n",
       "      <th>232674</th>\n",
       "      <td>490632</td>\n",
       "      <td>1956-08-14</td>\n",
       "      <td>Marie</td>\n",
       "      <td>Orsini</td>\n",
       "      <td>F</td>\n",
       "      <td>1985-07-05</td>\n",
       "      <td>6296</td>\n",
       "      <td>Senior Engineer</td>\n",
       "      <td>1999-07-06</td>\n",
       "      <td>1182</td>\n",
       "      <td>3</td>\n",
       "      <td>77528</td>\n",
       "      <td>2002-07-01</td>\n",
       "      <td>91</td>\n",
       "      <td>18</td>\n",
       "    </tr>\n",
       "    <tr>\n",
       "      <th>15049</th>\n",
       "      <td>28733</td>\n",
       "      <td>1964-03-14</td>\n",
       "      <td>Arup</td>\n",
       "      <td>Spell</td>\n",
       "      <td>F</td>\n",
       "      <td>1987-12-28</td>\n",
       "      <td>5390</td>\n",
       "      <td>Senior Engineer</td>\n",
       "      <td>1993-12-27</td>\n",
       "      <td>3199</td>\n",
       "      <td>2</td>\n",
       "      <td>61934</td>\n",
       "      <td>2001-12-24</td>\n",
       "      <td>280</td>\n",
       "      <td>15</td>\n",
       "    </tr>\n",
       "  </tbody>\n",
       "</table>\n",
       "</div>"
      ],
      "text/plain": [
       "        emp_no  birth_date first_name     last_name gender   hire_date  \\\n",
       "116578  245423  1956-06-16      Roded  Hemaspaandra      F  1989-07-21   \n",
       "199090  448645  1961-06-24  Inderjeet      Valtorta      F  1990-07-12   \n",
       "136830  270784  1953-10-11     Piyush        Docker      M  1987-01-07   \n",
       "232674  490632  1956-08-14      Marie        Orsini      F  1985-07-05   \n",
       "15049    28733  1964-03-14       Arup         Spell      F  1987-12-28   \n",
       "\n",
       "        tenure             title  title_from  t_tenure  titles  salary  \\\n",
       "116578    4819  Technique Leader  1989-07-21      4819       1   71785   \n",
       "199090    4463   Senior Engineer  1999-01-06      1363       2   72868   \n",
       "136830    5745      Senior Staff  1995-01-07      2823       2   91056   \n",
       "232674    6296   Senior Engineer  1999-07-06      1182       3   77528   \n",
       "15049     5390   Senior Engineer  1993-12-27      3199       2   61934   \n",
       "\n",
       "       salary_from  s_tenure  salaries  \n",
       "116578  2002-07-18        74        14  \n",
       "199090  2002-01-04       269        10  \n",
       "136830  2002-01-03       270        16  \n",
       "232674  2002-07-01        91        18  \n",
       "15049   2001-12-24       280        15  "
      ]
     },
     "execution_count": 305,
     "metadata": {},
     "output_type": "execute_result"
    }
   ],
   "source": [
    "employees_url = get_db_url(user, password, host, database='employees')\n",
    "str_to_date = '''SET @check_date =  STR_TO_DATE('2002-09-30', '%Y-%m-%d');''' \n",
    "\n",
    "employees = pd.read_sql('''SELECT\n",
    "    e.*,\n",
    "    datediff('2002-09-30', e.hire_date) tenure,\n",
    "    t.title,\n",
    "    t.from_date title_from,\n",
    "    datediff('2002-09-30', t.from_date) t_tenure,\n",
    "    et.titles,\n",
    "    s.salary,\n",
    "    s.from_date salary_from,\n",
    "    datediff('2002-09-30', s.from_date) s_tenure,\n",
    "    es.salaries\n",
    "FROM\n",
    "    employees e\n",
    "JOIN \n",
    "    titles t \n",
    "    USING(emp_no)\n",
    "JOIN \n",
    "    salaries s \n",
    "    USING(emp_no)\n",
    "JOIN\n",
    "    (SELECT \n",
    "        emp_no,\n",
    "        count(*) titles\n",
    "    FROM\n",
    "        titles\n",
    "    GROUP BY\n",
    "        emp_no) et\n",
    "    USING(emp_no)\n",
    "JOIN\n",
    "    (SELECT \n",
    "        emp_no,\n",
    "        count(*) salaries\n",
    "    FROM\n",
    "        salaries\n",
    "    GROUP BY\n",
    "        emp_no) es\n",
    "    USING(emp_no)\n",
    "WHERE\n",
    "    s.to_date > '2002-09-30'\n",
    "    AND t.to_date > '2002-09-30';\n",
    "''', employees_url)\n",
    "print(employees.shape)\n",
    "print(employees.dtypes)\n",
    "employees.sample(5)"
   ]
  },
  {
   "cell_type": "markdown",
   "metadata": {},
   "source": [
    "- Is there a relationship between how long an employee has been with the company and their salary?"
   ]
  },
  {
   "cell_type": "code",
   "execution_count": 306,
   "metadata": {},
   "outputs": [
    {
     "data": {
      "image/png": "[encoded data removed]",
      "text/plain": [
       "<Figure size 432x432 with 3 Axes>"
      ]
     },
     "metadata": {
      "needs_background": "light"
     },
     "output_type": "display_data"
    },
    {
     "name": "stdout",
     "output_type": "stream",
     "text": [
      "These parameters have an r-value of 0.306 and p-value of 0.00000\n",
      "REJCT the null hypothesis. There IS a statistically significant difference\n"
     ]
    }
   ],
   "source": [
    "r, p = stats.pearsonr(employees.tenure, employees.salary)\n",
    "sns.jointplot(data=employees, x=employees.tenure, y=employees.salary, color='green')\n",
    "plt.show()\n",
    "print(f'These parameters have an r-value of {r:.3f} and p-value of {p:.5f}')\n",
    "\n",
    "reject, statement = null_reject(p, alpha)\n",
    "print(statement)"
   ]
  },
  {
   "cell_type": "markdown",
   "metadata": {},
   "source": [
    "- Is there a relationship between how long an employee has been with the company and the number of titles they have had?"
   ]
  },
  {
   "cell_type": "code",
   "execution_count": 311,
   "metadata": {},
   "outputs": [
    {
     "name": "stdout",
     "output_type": "stream",
     "text": [
      "titles\n",
      "1    111892\n",
      "2    125345\n",
      "3      2887\n",
      "Name: emp_no, dtype: int64\n"
     ]
    },
    {
     "data": {
      "image/png": "[encoded data removed]",
      "text/plain": [
       "<Figure size 432x432 with 3 Axes>"
      ]
     },
     "metadata": {
      "needs_background": "light"
     },
     "output_type": "display_data"
    },
    {
     "name": "stdout",
     "output_type": "stream",
     "text": [
      "These parameters have an r-value of 0.287 and p-value of 0.00000\n",
      "REJCT the null hypothesis. There IS a statistically significant difference\n"
     ]
    }
   ],
   "source": [
    "r, p = stats.pearsonr(employees.tenure, employees.titles)\n",
    "print(employees.groupby('titles').emp_no.count())\n",
    "sns.jointplot(data=employees, x=employees.tenure, y=employees.titles, color='purple')\n",
    "plt.show()\n",
    "print(f'These parameters have an r-value of {r:.3f} and p-value of {p:.5f}')\n",
    "\n",
    "reject, statement = null_reject(p, alpha)\n",
    "print(statement)"
   ]
  },
  {
   "cell_type": "code",
   "execution_count": 313,
   "metadata": {},
   "outputs": [
    {
     "name": "stdout",
     "output_type": "stream",
     "text": [
      "salaries\n",
      "3      8033\n",
      "4     15692\n",
      "5     16086\n",
      "6     15904\n",
      "7     15898\n",
      "8     16056\n",
      "9     15968\n",
      "10    16088\n",
      "11    16054\n",
      "12    15949\n",
      "13    16067\n",
      "14    16270\n",
      "15    16108\n",
      "16    15886\n",
      "17    15909\n",
      "18     8156\n",
      "Name: emp_no, dtype: int64\n"
     ]
    },
    {
     "data": {
      "image/png": "[encoded data removed]",
      "text/plain": [
       "<Figure size 432x432 with 3 Axes>"
      ]
     },
     "metadata": {
      "needs_background": "light"
     },
     "output_type": "display_data"
    },
    {
     "name": "stdout",
     "output_type": "stream",
     "text": [
      "These parameters have an r-value of 0.610 and p-value of 0.00000\n",
      "REJCT the null hypothesis. There IS a statistically significant difference\n"
     ]
    }
   ],
   "source": [
    "r, p = stats.pearsonr(employees.tenure, employees.salaries)\n",
    "print(employees.groupby('salaries').emp_no.count())\n",
    "sns.jointplot(data=employees, x=employees.tenure, y=employees.salaries, color='red')\n",
    "plt.show()\n",
    "print(f'These parameters have an r-value of {r:.3f} and p-value of {p:.5f}')\n",
    "\n",
    "reject, statement = null_reject(p, alpha)\n",
    "print(statement)"
   ]
  },
  {
   "cell_type": "markdown",
   "metadata": {},
   "source": [
    "3 **Use the** \n",
    "`sleepstudy` \n",
    " **data.** "
   ]
  },
  {
   "cell_type": "code",
   "execution_count": null,
   "metadata": {},
   "outputs": [],
   "source": []
  },
  {
   "cell_type": "markdown",
   "metadata": {},
   "source": [
    "- Is there a relationship between days and reaction time?"
   ]
  },
  {
   "cell_type": "code",
   "execution_count": null,
   "metadata": {},
   "outputs": [],
   "source": []
  }
 ],
 "metadata": {
  "kernelspec": {
   "display_name": "Python 3",
   "language": "python",
   "name": "python3"
  },
  "language_info": {
   "codemirror_mode": {
    "name": "ipython",
    "version": 3
   },
   "file_extension": ".py",
   "mimetype": "text/x-python",
   "name": "python",
   "nbconvert_exporter": "python",
   "pygments_lexer": "ipython3",
   "version": "3.7.3"
  }
 },
 "nbformat": 4,
 "nbformat_minor": 2
}
